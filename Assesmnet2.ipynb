{
 "cells": [
  {
   "cell_type": "code",
   "execution_count": 13,
   "id": "1ce85cd9-8616-4b4b-9243-3dff773e510a",
   "metadata": {},
   "outputs": [
    {
     "name": "stdin",
     "output_type": "stream",
     "text": [
      "Enter number of rows in first matrix: 2\n",
      "Enter number of columns in second matirx: 2\n"
     ]
    },
    {
     "name": "stdout",
     "output_type": "stream",
     "text": [
      "Enter the elements in first matrix:\n"
     ]
    },
    {
     "name": "stdin",
     "output_type": "stream",
     "text": [
      " 2\n",
      " 3\n",
      " 4\n",
      " 5\n"
     ]
    },
    {
     "name": "stdout",
     "output_type": "stream",
     "text": [
      "MatrixF\n",
      "2  3  \n",
      "4  5  \n",
      "Enter the elemnts in second matrix:\n"
     ]
    },
    {
     "name": "stdin",
     "output_type": "stream",
     "text": [
      " 1\n",
      " 2\n",
      " 4\n",
      " 5\n"
     ]
    },
    {
     "name": "stdout",
     "output_type": "stream",
     "text": [
      "MatrixS\n",
      "1  2  \n",
      "4  5  \n",
      "Result of Matrix multiplication  is:\n",
      "2  6  \n",
      "16 25 \n",
      "Result of Matrix Addition  is:\n",
      "3  5  \n",
      "8  10 \n",
      "Result of Matrix Addition  is:\n",
      "1  1  \n",
      "0  0  \n"
     ]
    },
    {
     "name": "stdin",
     "output_type": "stream",
     "text": [
      "Enter a number: 3\n"
     ]
    },
    {
     "name": "stdout",
     "output_type": "stream",
     "text": [
      "Entered number is Odd.\n",
      "Sum of squares from 21 to 30 is:6585\n"
     ]
    }
   ],
   "source": [
    "a = int(input(\"Enter number of rows in first matrix:\"))\n",
    "b = int(input(\"Enter number of columns in second matirx:\"))\n",
    "print(\"Enter the elements in first matrix:\")\n",
    "MatrixF = [[int(input()) for i in range (b)] for j in range (a)]\n",
    "print(\"MatrixF\")\n",
    "for i in range(a):\n",
    "    for j in range(b):\n",
    "        print(format(MatrixF[i][j],\"<3\"), end=\"\")\n",
    "    print()\n",
    "print(\"Enter the elemnts in second matrix:\")\n",
    "MatrixS = [[int(input()) for i in range (b)] for j in range (a)]\n",
    "print(\"MatrixS\")\n",
    "for i in range(a):\n",
    "    for j in range(b):\n",
    "        print(format(MatrixS[i][j],\"<3\"), end=\"\")\n",
    "    print()\n",
    "result1 = [[0 for i in range(b)] for j in range(a)]\n",
    "for i in range(a):\n",
    "    for j in range(b):\n",
    "        result1[i][j] = MatrixF[i][j] * MatrixS[i][j]\n",
    "print(\"Result of Matrix multiplication  is:\")\n",
    "for i in range(a):\n",
    "    for j in range(b):\n",
    "        print(format(result1[i][j],\"<3\"),end=\"\")\n",
    "    print()\n",
    "result2 = [[0 for i in range(b)] for j in range(a)]\n",
    "for i in range(a):\n",
    "    for j in range(b):\n",
    "        result2[i][j] = MatrixF[i][j] + MatrixS[i][j]\n",
    "print(\"Result of Matrix Addition  is:\")\n",
    "for i in range(a):\n",
    "    for j in range(b):\n",
    "        print(format(result2[i][j],\"<3\"),end=\"\")\n",
    "    print()\n",
    "result3 = [[0 for i in range(b)] for j in range(a)]\n",
    "for i in range(a):\n",
    "    for j in range(b):\n",
    "        result3[i][j] = MatrixF[i][j] - MatrixS[i][j]\n",
    "print(\"Result of Matrix Addition  is:\")\n",
    "for i in range(a):\n",
    "    for j in range(b):\n",
    "        print(format(result3[i][j],\"<3\"),end=\"\")\n",
    "    print()\n",
    "\n",
    "\n",
    "#Even of odd \n",
    "a = int(input(\"Enter a number:\"))\n",
    "if a%2==0:\n",
    "        print(\"Entered number is Even.\")\n",
    "else:\n",
    "        print(\"Entered number is Odd.\")\n",
    "\n",
    "#Sum of sqaure of 21 to 30\n",
    "X=21\n",
    "Y=30\n",
    "num= list(range(X,Y+1))\n",
    "sum=0\n",
    "sq=0\n",
    "for i in num:\n",
    "    sq=i*i\n",
    "    sum=sum+sq\n",
    "\n",
    "print(\"Sum of squares from 21 to 30 is:\" + str(sum))"
   ]
  },
  {
   "cell_type": "code",
   "execution_count": null,
   "id": "32e556ea-d6ef-496b-9050-9b62cdeeca74",
   "metadata": {},
   "outputs": [],
   "source": []
  }
 ],
 "metadata": {
  "kernelspec": {
   "display_name": "Python [conda env:base] *",
   "language": "python",
   "name": "conda-base-py"
  },
  "language_info": {
   "codemirror_mode": {
    "name": "ipython",
    "version": 3
   },
   "file_extension": ".py",
   "mimetype": "text/x-python",
   "name": "python",
   "nbconvert_exporter": "python",
   "pygments_lexer": "ipython3",
   "version": "3.12.7"
  }
 },
 "nbformat": 4,
 "nbformat_minor": 5
}
