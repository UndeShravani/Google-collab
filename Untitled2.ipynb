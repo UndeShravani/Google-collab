{
 "cells": [
  {
   "cell_type": "code",
   "execution_count": 3,
   "id": "a27f2627-ff32-438c-8a39-f93cdd4a4bd6",
   "metadata": {},
   "outputs": [
    {
     "name": "stdout",
     "output_type": "stream",
     "text": [
      "Originol List: ['apple', 'banana', 'orange']\n",
      "Updated List: ['apple', 'banana', 'cherry', 'orange']\n"
     ]
    }
   ],
   "source": [
    "fruits = ['apple', 'banana', 'orange']\n",
    "print(\"Originol List:\", fruits)\n",
    "\n",
    "fruits.insert(2, 'cherry')\n",
    "\n",
    "print(\"Updated List:\", fruits)"
   ]
  },
  {
   "cell_type": "code",
   "execution_count": null,
   "id": "fd76585c-b153-4209-a2bc-22c17b7b3c0b",
   "metadata": {},
   "outputs": [],
   "source": [
    "#next operation\n"
   ]
  },
  {
   "cell_type": "code",
   "execution_count": 8,
   "id": "a2066a7c-af9b-4279-a197-886a13d4ed15",
   "metadata": {},
   "outputs": [
    {
     "name": "stdout",
     "output_type": "stream",
     "text": [
      "Originol List: ['apple', 'banana', 'orange']\n",
      "Updated List: ['apple', 'banana', 'orange', 'cherry']\n"
     ]
    }
   ],
   "source": [
    "fruits = ['apple', 'banana', 'orange']\n",
    "print(\"Originol List:\", fruits)\n",
    "\n",
    "fruits.append( 'cherry')\n",
    "\n",
    "print(\"Updated List:\", fruits)"
   ]
  },
  {
   "cell_type": "code",
   "execution_count": 11,
   "id": "037598f8-7536-430a-bab6-517ec27f9411",
   "metadata": {},
   "outputs": [
    {
     "name": "stdout",
     "output_type": "stream",
     "text": [
      "Originol List: ['apple', 'banana', 'orange']\n",
      "Updated List: ['apple', 'banana', 'orange', 'c', 'h', 'e', 'r', 'r', 'y']\n"
     ]
    }
   ],
   "source": [
    "fruits = ['apple', 'banana', 'orange']\n",
    "print(\"Originol List:\", fruits)\n",
    "\n",
    "fruits.extend( 'cherry')\n",
    "\n",
    "print(\"Updated List:\", fruits)"
   ]
  },
  {
   "cell_type": "markdown",
   "id": "b25c2b96-3f7d-4f37-aa02-ed1c153fbfd3",
   "metadata": {},
   "source": []
  },
  {
   "cell_type": "code",
   "execution_count": 15,
   "id": "76adf7ca-607b-49e9-a529-99ee049111e2",
   "metadata": {},
   "outputs": [
    {
     "name": "stdout",
     "output_type": "stream",
     "text": [
      "Originol List: ['apple', 'banana', 'orange']\n",
      "Updated List: ['apple', 'banana', 'cherry', 'orange']\n"
     ]
    }
   ],
   "source": [
    "fruits = ['apple', 'banana', 'orange']\n",
    "print(\"Originol List:\", fruits)\n",
    "\n",
    "fruits.insert( 2,'cherry')\n",
    "\n",
    "print(\"Updated List:\", fruits)"
   ]
  },
  {
   "cell_type": "code",
   "execution_count": 19,
   "id": "29f6f3c7-e970-4b40-9b16-4bd7fe99b310",
   "metadata": {},
   "outputs": [
    {
     "name": "stdout",
     "output_type": "stream",
     "text": [
      "Originol List: ['apple', 'banana', 'cherry', 'orange']\n",
      "Updated List: ['apple', 'banana', 'orange']\n"
     ]
    }
   ],
   "source": [
    "fruits = ['apple', 'banana', 'cherry', 'orange']\n",
    "print(\"Originol List:\", fruits)\n",
    "\n",
    "fruits.remove( 'cherry')\n",
    "\n",
    "print(\"Updated List:\", fruits)"
   ]
  },
  {
   "cell_type": "code",
   "execution_count": 25,
   "id": "ae747dd8-1171-4525-91ae-79b594020acd",
   "metadata": {},
   "outputs": [
    {
     "name": "stdout",
     "output_type": "stream",
     "text": [
      "Originol List: ['apple', 'banana', 'cherry', 'orange']\n"
     ]
    },
    {
     "ename": "TypeError",
     "evalue": "pop expected at most 1 argument, got 2",
     "output_type": "error",
     "traceback": [
      "\u001b[1;31m---------------------------------------------------------------------------\u001b[0m",
      "\u001b[1;31mTypeError\u001b[0m                                 Traceback (most recent call last)",
      "Cell \u001b[1;32mIn[25], line 4\u001b[0m\n\u001b[0;32m      1\u001b[0m fruits \u001b[38;5;241m=\u001b[39m [\u001b[38;5;124m'\u001b[39m\u001b[38;5;124mapple\u001b[39m\u001b[38;5;124m'\u001b[39m, \u001b[38;5;124m'\u001b[39m\u001b[38;5;124mbanana\u001b[39m\u001b[38;5;124m'\u001b[39m, \u001b[38;5;124m'\u001b[39m\u001b[38;5;124mcherry\u001b[39m\u001b[38;5;124m'\u001b[39m, \u001b[38;5;124m'\u001b[39m\u001b[38;5;124morange\u001b[39m\u001b[38;5;124m'\u001b[39m]\n\u001b[0;32m      2\u001b[0m \u001b[38;5;28mprint\u001b[39m(\u001b[38;5;124m\"\u001b[39m\u001b[38;5;124mOriginol List:\u001b[39m\u001b[38;5;124m\"\u001b[39m, fruits)\n\u001b[1;32m----> 4\u001b[0m fruits\u001b[38;5;241m.\u001b[39mpop( \u001b[38;5;241m1\u001b[39m,\u001b[38;5;124m'\u001b[39m\u001b[38;5;124mcherry\u001b[39m\u001b[38;5;124m'\u001b[39m)\n\u001b[0;32m      6\u001b[0m \u001b[38;5;28mprint\u001b[39m(\u001b[38;5;124m\"\u001b[39m\u001b[38;5;124mUpdated List:\u001b[39m\u001b[38;5;124m\"\u001b[39m, fruits)\n",
      "\u001b[1;31mTypeError\u001b[0m: pop expected at most 1 argument, got 2"
     ]
    }
   ],
   "source": [
    "\n",
    "fruits = ['apple', 'banana', 'cherry', 'orange']\n",
    "print(\"Originol List:\", fruits)\n",
    "\n",
    "fruits.pop( 1)\n",
    "\n",
    "print(\"Updated List:\", fruits)"
   ]
  },
  {
   "cell_type": "code",
   "execution_count": 29,
   "id": "a48c176a-3c31-4112-bf87-4f2774398629",
   "metadata": {},
   "outputs": [
    {
     "name": "stdout",
     "output_type": "stream",
     "text": [
      "Originol List: ['apple', 'banana', 'cherry', 'orange']\n",
      "Updated List: []\n"
     ]
    }
   ],
   "source": [
    "\n",
    "fruits = ['apple', 'banana', 'cherry', 'orange']\n",
    "print(\"Originol List:\", fruits)\n",
    "\n",
    "fruits.clear()\n",
    "\n",
    "print(\"Updated List:\", fruits)"
   ]
  },
  {
   "cell_type": "code",
   "execution_count": 48,
   "id": "39864fe9-715f-4d5f-be88-f98450a5fb4d",
   "metadata": {},
   "outputs": [
    {
     "name": "stdout",
     "output_type": "stream",
     "text": [
      "Originol List: ['apple', 'banana', 'cherry', 'orange']\n",
      "Updated List: 1\n"
     ]
    }
   ],
   "source": [
    "\n",
    "fruits = ['apple', 'banana', 'cherry', 'orange']\n",
    "print(\"Originol List:\", fruits)\n",
    "\n",
    "banana_index =fruits.index('banana')\n",
    "\n",
    "print(\"Updated List:\", banana_index)"
   ]
  },
  {
   "cell_type": "code",
   "execution_count": null,
   "id": "84a56504-4027-41ac-9b38-d8a47275099d",
   "metadata": {},
   "outputs": [],
   "source": []
  },
  {
   "cell_type": "code",
   "execution_count": 50,
   "id": "fa91aaf2-1745-4ac9-9732-fd36e874a0be",
   "metadata": {},
   "outputs": [
    {
     "name": "stdout",
     "output_type": "stream",
     "text": [
      "Originol List: ['apple', 'banana', 'cherry', 'orange', 'apple']\n",
      "Updated List: 2\n"
     ]
    }
   ],
   "source": [
    "fruits = ['apple', 'banana', 'cherry', 'orange', 'apple']\n",
    "print(\"Originol List:\", fruits)\n",
    "\n",
    "apple_count =fruits.count('apple')\n",
    "\n",
    "print(\"Updated List:\", apple_count)"
   ]
  },
  {
   "cell_type": "code",
   "execution_count": 70,
   "id": "fd65bb4e-621f-4727-966f-75aeb7da1e66",
   "metadata": {},
   "outputs": [
    {
     "name": "stdout",
     "output_type": "stream",
     "text": [
      "Originol List: ['apple', 'banana', 'cherry', 'orange', 'apple']\n",
      "Updated List: ['apple', 'apple', 'banana', 'cherry', 'orange']\n"
     ]
    }
   ],
   "source": [
    "fruits = ['apple', 'banana', 'cherry', 'orange', 'apple']\n",
    "print(\"Originol List:\", fruits)\n",
    "\n",
    "fruits.sort()\n",
    "\n",
    "print(\"Updated List:\", fruits)"
   ]
  },
  {
   "cell_type": "code",
   "execution_count": 68,
   "id": "232b471f-44d6-4f7a-bfdf-ba313465b64a",
   "metadata": {},
   "outputs": [
    {
     "name": "stdout",
     "output_type": "stream",
     "text": [
      "Originol List: ['apple', 'banana', 'cherry', 'orange']\n",
      "Updated List: ['orange', 'cherry', 'banana', 'apple']\n"
     ]
    }
   ],
   "source": [
    "\n",
    "fruits = ['apple', 'banana', 'cherry', 'orange', ]\n",
    "print(\"Originol List:\", fruits)\n",
    "\n",
    "fruits.reverse()\n",
    "\n",
    "print(\"Updated List:\", fruits)"
   ]
  },
  {
   "cell_type": "code",
   "execution_count": 72,
   "id": "7935e403-9a33-4813-be66-cdc67f7bda42",
   "metadata": {},
   "outputs": [
    {
     "name": "stdout",
     "output_type": "stream",
     "text": [
      "Originol List: ['apple', 'banana', 'cherry', 'orange', 'apple']\n",
      "Updated List: ['apple', 'banana', 'cherry', 'orange', 'apple']\n"
     ]
    }
   ],
   "source": [
    "\n",
    "fruits = ['apple', 'banana', 'cherry', 'orange', 'apple']\n",
    "print(\"Originol List:\", fruits)\n",
    "\n",
    "fruits.copy()\n",
    "\n",
    "print(\"Updated List:\", fruits)"
   ]
  },
  {
   "cell_type": "code",
   "execution_count": null,
   "id": "3c3a7294-bd67-4386-9e8e-6247997b9cfb",
   "metadata": {},
   "outputs": [],
   "source": []
  }
 ],
 "metadata": {
  "kernelspec": {
   "display_name": "Python [conda env:base] *",
   "language": "python",
   "name": "conda-base-py"
  },
  "language_info": {
   "codemirror_mode": {
    "name": "ipython",
    "version": 3
   },
   "file_extension": ".py",
   "mimetype": "text/x-python",
   "name": "python",
   "nbconvert_exporter": "python",
   "pygments_lexer": "ipython3",
   "version": "3.12.7"
  }
 },
 "nbformat": 4,
 "nbformat_minor": 5
}
